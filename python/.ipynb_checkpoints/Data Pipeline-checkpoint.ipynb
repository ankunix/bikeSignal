{
 "cells": [
  {
   "cell_type": "code",
   "execution_count": 49,
   "metadata": {},
   "outputs": [],
   "source": [
    "import holoviews as hv\n",
    "import seaborn as sns\n",
    "import pandas as pd\n",
    "import numpy as np\n",
    "import pickle as pkl\n",
    "import os, sys, inspect\n",
    "import matplotlib.pyplot as plt\n",
    "from datetime import *\n",
    "from collections import OrderedDict as od\n",
    "from glob import glob\n",
    "from os.path import basename\n",
    "from numpy import *\n",
    "from scipy.stats import skew\n",
    "from scipy.stats import kurtosis\n",
    "from sklearn.model_selection import validation_curve\n",
    "from sklearn.cross_validation import train_test_split\n",
    "from sklearn.cross_validation import ShuffleSplit\n",
    "from sklearn import model_selection\n",
    "from sklearn.grid_search import GridSearchCV\n",
    "from sklearn.linear_model import LogisticRegression\n",
    "from sklearn.neighbors import KNeighborsClassifier\n",
    "from sklearn.discriminant_analysis import LinearDiscriminantAnalysis\n",
    "from sklearn.naive_bayes import GaussianNB\n",
    "from sklearn.ensemble import VotingClassifier\n",
    "from sklearn.metrics import accuracy_score, classification_report, roc_curve, auc\n",
    "sys.path.insert(0,'./madgwick_py')\n",
    "from madgwick_py import madgwickahrs, quaternion"
   ]
  },
  {
   "cell_type": "code",
   "execution_count": 34,
   "metadata": {},
   "outputs": [],
   "source": [
    "def aggr(val):\n",
    "        if (val.dtype==float64):\n",
    "            return val.mean()\n",
    "        elif (val.dtype==object):\n",
    "            return set(val).pop()"
   ]
  },
  {
   "cell_type": "code",
   "execution_count": 62,
   "metadata": {},
   "outputs": [
    {
     "name": "stdout",
     "output_type": "stream",
     "text": [
      "/Users/ankush/bike-signal/recordings/transitway_experiments\n"
     ]
    }
   ],
   "source": [
    "cd '/Users/ankush/bike-signal/recordings/transitway_experiments/'"
   ]
  },
  {
   "cell_type": "code",
   "execution_count": 63,
   "metadata": {},
   "outputs": [
    {
     "data": {
      "text/plain": [
       "u'/Users/ankush/bike-signal/recordings/transitway_experiments'"
      ]
     },
     "execution_count": 63,
     "metadata": {},
     "output_type": "execute_result"
    }
   ],
   "source": [
    "pwd"
   ]
  },
  {
   "cell_type": "code",
   "execution_count": 51,
   "metadata": {
    "collapsed": true
   },
   "outputs": [],
   "source": [
    "column_names=['timestamp',\n",
    "              'lastLatitude','lastLongitude',\n",
    "              'lastAccelerometerValues[0]','lastAccelerometerValues[1]','lastAccelerometerValues[2]',\n",
    "              'lastGyroscopeValues[0]','lastGyroscopeValues[1]','lastGyroscopeValues[2]',\n",
    "              'lastMagnetometerValues[0]','lastMagnetometerValues[1]','lastMagnetometerValues[2]',\n",
    "              'label']"
   ]
  },
  {
   "cell_type": "code",
   "execution_count": 40,
   "metadata": {
    "collapsed": true
   },
   "outputs": [],
   "source": [
    "datatype={'timestamp':float64,\n",
    "          'lastLatitude':float64,'lastLongitude':float64,\n",
    "          'lastAccelerometerValues[0]':float64,'lastAccelerometerValues[1]':float64,'lastAccelerometerValues[2]':float64,\n",
    "          'lastGyroscopeValues[0]':float64,'lastGyroscopeValues[1]':float64,'lastGyroscopeValues[2]':float64,\n",
    "          'lastMagnetometerValues[0]':float64,'lastMagnetometerValues[1]':float64,'lastMagnetometerValues[2]':float64,\n",
    "          'label':str}"
   ]
  },
  {
   "cell_type": "code",
   "execution_count": 64,
   "metadata": {
    "collapsed": true
   },
   "outputs": [],
   "source": [
    "def data_parser():\n",
    "        for recording in glob('*.csv'):\n",
    "            key=basename(recording)[0:12]\n",
    "            print('\\nReading File\\t'+recording)\n",
    "            data[key]=pd.read_csv(recording,\n",
    "                                  na_filter=True,\n",
    "                                  names=column_names,\n",
    "                                  header=0,\n",
    "                                  dtype=datatype\n",
    "                                 )\n",
    "            print('\\n\\tAggregating '+str(len(data[key].index))+ 'samples')\n",
    "            data[key]=data[key].dropna().groupby('timestamp').agg(aggr)\n",
    "            print('\\n\\tGrouped to '+str(len(data[key].index))+ 'timestamps.')"
   ]
  },
  {
   "cell_type": "code",
   "execution_count": null,
   "metadata": {},
   "outputs": [],
   "source": [
    "data_parser()"
   ]
  },
  {
   "cell_type": "code",
   "execution_count": null,
   "metadata": {
    "collapsed": true
   },
   "outputs": [],
   "source": [
    "filehandler = open(\"data.pkl\", 'w')\n",
    "pkl.dump(data, filehandler)"
   ]
  },
  {
   "cell_type": "code",
   "execution_count": 67,
   "metadata": {},
   "outputs": [],
   "source": [
    "filehandler = open(\"data.pkl\", 'r')\n",
    "data=pkl.load(filehandler)"
   ]
  },
  {
   "cell_type": "code",
   "execution_count": 70,
   "metadata": {},
   "outputs": [],
   "source": [
    "def scatterPlot(dt,dims):\n",
    "    move=hv.Scatter(dt[dt['label'].str.strip()=='move'].reset_index(), vdims=dims)(style={'color':'green'})\n",
    "    stop=hv.Scatter(dt[dt['label'].str.strip()=='stop'].reset_index(), vdims=dims)(style={'color':'red'})\n",
    "    right=hv.Scatter(dt[dt['label'].str.strip()=='right'].reset_index(), vdims=dims)(style={'color':'blue'})\n",
    "    left=hv.Scatter(dt[dt['label'].str.strip()=='left'].reset_index(), vdims=dims)(style={'color':'yellow'})\n",
    "    return move*stop*left*right\n",
    "def scatterAll(dt):\n",
    "    accl0=scatterPlot(dt,['lastAccelerometerValues[0]'])\n",
    "    accl1=scatterPlot(dt,['lastAccelerometerValues[1]'])\n",
    "    accl2=scatterPlot(dt,['lastAccelerometerValues[2]'])\n",
    "    gyro0=scatterPlot(dt,['lastGyroscopeValues[0]'])\n",
    "    gyro1=scatterPlot(dt,['lastGyroscopeValues[1]'])\n",
    "    gyro2=scatterPlot(dt,['lastGyroscopeValues[2]'])\n",
    "    magnt0=scatterPlot(dt,['lastMagnetometerValues[0]'])\n",
    "    magnt1=scatterPlot(dt,['lastMagnetometerValues[1]'])\n",
    "    magnt2=scatterPlot(dt,['lastMagnetometerValues[2]'])\n",
    "    return (accl0+accl1+accl2+gyro0+gyro1+gyro2+magnt0+magnt1+magnt2)"
   ]
  },
  {
   "cell_type": "code",
   "execution_count": null,
   "metadata": {
    "collapsed": true
   },
   "outputs": [],
   "source": []
  }
 ],
 "metadata": {
  "kernelspec": {
   "display_name": "Python 2",
   "language": "python",
   "name": "python2"
  },
  "language_info": {
   "codemirror_mode": {
    "name": "ipython",
    "version": 2
   },
   "file_extension": ".py",
   "mimetype": "text/x-python",
   "name": "python",
   "nbconvert_exporter": "python",
   "pygments_lexer": "ipython2",
   "version": "2.7.13"
  }
 },
 "nbformat": 4,
 "nbformat_minor": 2
}
